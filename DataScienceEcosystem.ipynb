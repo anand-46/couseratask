{
 "cells": [
  {
   "cell_type": "markdown",
   "id": "f361d3a7-2675-49a5-b468-048a7b4ca541",
   "metadata": {},
   "source": [
    "# Data Science Tools and Ecosystem\n"
   ]
  },
  {
   "cell_type": "markdown",
   "id": "45565290-e3ce-48fa-bebe-aff2e7eca8a9",
   "metadata": {},
   "source": [
    "In this notebook, Data Science Tools and Ecosystem are summarized.\n"
   ]
  },
  {
   "cell_type": "markdown",
   "id": "2cbd31b5-18c7-44e9-b019-78f76ae0d1fd",
   "metadata": {},
   "source": [
    "Some of the commonly used libraries used by Data Scientists include:\n",
    "1. NumPy\n",
    "2. Pandas\n",
    "3. Scikit-learn\n",
    "4. TensorFlow\n",
    "5. Matplotlib\n"
   ]
  },
  {
   "cell_type": "markdown",
   "id": "d51527a4-c499-47ee-9217-5d0b10ea2d65",
   "metadata": {},
   "source": [
    "**Objectives:**\n",
    "\n",
    "- List popular languages for Data Science.\n",
    "- Identify commonly used libraries in Data Science.\n",
    "- Introduce development environment tools for Data Science.\n"
   ]
  },
  {
   "cell_type": "markdown",
   "id": "68fabe78-ad92-4fb2-8a0a-9f8bc1252712",
   "metadata": {},
   "source": [
    "Some of the popular languages that Data Scientists use are:\n",
    "1. Python\n",
    "2. R\n",
    "3. SQL\n",
    "4. Julia\n",
    "5. Java\n"
   ]
  },
  {
   "cell_type": "markdown",
   "id": "012cc6e7-3cf7-4a94-a534-40bd75ceca89",
   "metadata": {},
   "source": [
    "| Data Science Tools       |\n",
    "|--------------------------|\n",
    "| Jupyter Notebook         |\n",
    "| RStudio                  |\n",
    "| VS Code with Python      |\n"
   ]
  },
  {
   "cell_type": "markdown",
   "id": "3edc0a59-018b-4dd4-9233-3f62b4e6a51b",
   "metadata": {},
   "source": [
    "### Below are a few examples of evaluating arithmetic expressions in Python"
   ]
  },
  {
   "cell_type": "code",
   "execution_count": 2,
   "id": "b5087d9e-9db6-4ab3-9115-deb0d66de8b5",
   "metadata": {},
   "outputs": [
    {
     "name": "stdout",
     "output_type": "stream",
     "text": [
      "17\n"
     ]
    }
   ],
   "source": [
    "# This a simple arithmetic expression to mutiply then add integers\n",
    "print((3*4)+5)"
   ]
  },
  {
   "cell_type": "code",
   "execution_count": 5,
   "id": "abf6a870-5b15-4df7-baab-1a1e10371cb3",
   "metadata": {},
   "outputs": [
    {
     "name": "stdout",
     "output_type": "stream",
     "text": [
      "200 minitues will be equal to: 3.3333333333333335\n"
     ]
    }
   ],
   "source": [
    "# This will convert 200 minutes to hours by diving by 60\n",
    "print(\"200 minitues will be equal to:\",200/60)"
   ]
  },
  {
   "cell_type": "markdown",
   "id": "7faf2d81-8b97-4b9f-8272-5ce9281fce9f",
   "metadata": {},
   "source": [
    "## Author\n",
    "\n",
    "V Anand\n"
   ]
  },
  {
   "cell_type": "code",
   "execution_count": null,
   "id": "659a8d1e-9159-4ba9-868c-9587ccfaaa2d",
   "metadata": {},
   "outputs": [],
   "source": []
  }
 ],
 "metadata": {
  "kernelspec": {
   "display_name": "Python 3 (ipykernel)",
   "language": "python",
   "name": "python3"
  },
  "language_info": {
   "codemirror_mode": {
    "name": "ipython",
    "version": 3
   },
   "file_extension": ".py",
   "mimetype": "text/x-python",
   "name": "python",
   "nbconvert_exporter": "python",
   "pygments_lexer": "ipython3",
   "version": "3.12.4"
  }
 },
 "nbformat": 4,
 "nbformat_minor": 5
}
